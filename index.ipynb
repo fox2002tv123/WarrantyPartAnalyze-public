{
 "cells": [
  {
   "cell_type": "code",
   "execution_count": 17,
   "metadata": {},
   "outputs": [],
   "source": [
    "# 获取data文件夹下的所有文件xlsx文件\n",
    "import glob\n",
    "# 获取当前完整路径\n",
    "import os\n",
    "import datetime\n",
    "import pandas as pd\n",
    "import numpy as np\n",
    "path=os.getcwd() # 获取当前工作目录\n",
    "# 创建函数，获取当前工作目录，文件名，文件名后缀\n",
    "# step -3 获取当前工作目录\n",
    "def get_current_path():\n",
    "    \n",
    "    path=os.getcwd() # 获取当前工作目录\n",
    "    path\n",
    "    file_names=glob.glob(f'{path}\\\\data\\\\*.xlsx')\n",
    "    # file_names=['data\\\\'+i for i in file_names]\n",
    "    return file_names\n"
   ]
  },
  {
   "cell_type": "code",
   "execution_count": 18,
   "metadata": {},
   "outputs": [],
   "source": [
    "# 加载数据\n",
    "# import pandas as pd\n",
    "# import numpy as np\n",
    "# concat函数用于拼接数据\n",
    "# step-2 将数据拼接成一个dataframe\n",
    "# 创建函数，用于拼接数据\n",
    "def concat_data(file_names):\n",
    "    src_data=[]\n",
    "    for i in file_names:\n",
    "        data=pd.read_excel(i)\n",
    "        data['文件名']=i.replace(f'{path}\\\\data\\\\','') # 添加文件名列\n",
    "        src_data.append(data) # 将每个文件的数据拼接到一起\n",
    "        \n",
    "    df_src=pd.concat(src_data) # 将拼接好的数据放到一个dataframe中\n",
    "\n",
    "    df_src.head()\n",
    "    return df_src"
   ]
  },
  {
   "cell_type": "code",
   "execution_count": 19,
   "metadata": {},
   "outputs": [],
   "source": [
    "# df_src['Parts Number'].unique()"
   ]
  },
  {
   "cell_type": "code",
   "execution_count": 20,
   "metadata": {},
   "outputs": [],
   "source": [
    "# 创建函数，用于当df_src['Parts Number'].unique()>1时，通过拆分数据，将数据拆分成多个数据\n",
    "# step -1 将数据拆分成多个数据\n",
    "def split_data(df_src):\n",
    "    df_src_split=[]\n",
    "    for i in df_src['Parts Number'].unique():\n",
    "        df_src_split.append(df_src[df_src['Parts Number']==i])\n",
    "    return df_src_split"
   ]
  },
  {
   "cell_type": "code",
   "execution_count": 21,
   "metadata": {},
   "outputs": [],
   "source": [
    "# 运行step 0\n",
    "# 处理数据\n",
    "# df = df_src.copy()\n",
    "# 提取文件名中的时间\n",
    "# 创建函数，用于提取文件名中的时间\n",
    "\n",
    "\n",
    "def extract_time(df):\n",
    "\n",
    "    # import datetime # 已经在上一步中导入\n",
    "    # 提取时间\n",
    "    df['时间'] = df['文件名'].apply(lambda x: datetime.datetime.strptime(\n",
    "        x.split(' ')[0], 'TABLE6_%Y-%m-%d'))\n",
    "    # 按经销商-时间排序-升序\n",
    "    df = df.sort_values(by=['Dealer No.', '时间'])\n",
    "    df.index = df['时间']\n",
    "    df[['Dealer No.', 'QTY', 'Reorder QTY', '时间']].head()\n",
    "    return df\n"
   ]
  },
  {
   "cell_type": "code",
   "execution_count": 22,
   "metadata": {},
   "outputs": [],
   "source": [
    "# df.info()"
   ]
  },
  {
   "cell_type": "code",
   "execution_count": 23,
   "metadata": {},
   "outputs": [],
   "source": [
    "\n",
    "\n",
    "# 创建函数，lambda x:x['QTY']+x['Reorder QTY']-x['QTY'].shift(1)-x['Reorder QTY'].shift(1)\n",
    "# 运行step2\n",
    "def get_diff(x):\n",
    "    # \n",
    "    c1=x['QTY'].shift(1)+x['Reorder QTY'].shift(1)-x['QTY']-x['Reorder QTY']\n",
    "    c1=c1.map(lambda x:x if x>0 else 0) # 如果x<0，则返回0，原因是0的时候，不能减去\n",
    "\n",
    "    \n",
    "    return c1 \n",
    "    \n",
    "# 创建函数，单一零件号的情况\n",
    "\n",
    "# 运行step1\n",
    "def get_single_part(df):\n",
    "    # TODO 时间列名有问题\n",
    "    # df下一行(QTY+Reorder QTY)减去df上一行(QTY+Reorder QTY)\n",
    "    res_all=df.groupby(['Dealer No.','Dealer Name','Parts Number']).apply(get_diff)\n",
    "    # pandas将'时间'列转换成行\n",
    "    # ?这里有问题 有可能是s,df 不一样\n",
    "    # 判断res_all是否是series,转换成dataframe\n",
    "    if isinstance(res_all,pd.Series):\n",
    "        \n",
    "        res_all=res_all.to_frame()\n",
    "\n",
    "    \n",
    "    # print(res_all.columns.name,res_all.columns)\n",
    "    \n",
    "    if not res_all.columns.name: # 如果没有列名，则添加列名\n",
    "        \n",
    "        res_all=res_all.unstack('时间') #! 这是公司电脑的版本\n",
    "        # 取消多重索引-问题解决\n",
    "        res_all.columns=res_all.columns.droplevel(0)\n",
    "        # print(res_all.columns.names)\n",
    "    # 添加汇总列\n",
    "    res_all['汇总']=res_all.sum(axis=1) #! 单一数据可使用\n",
    "\n",
    "    # 转换列名称为日期2022-4-28 00:00:00 为2022-4-28\n",
    "    res_all.columns=res_all.columns.map(lambda x:str(x)[:10]) #! 单一数据可使用\n",
    "    \n",
    "    # 将'汇总'列放到第一列\n",
    "    res_all=res_all.reindex(columns=['汇总']+list(res_all.columns[:-1]))\n",
    "\n",
    "    # print(res_all) #! 将结果输出到控制台-取消\n",
    "    # 生成报表\n",
    "    # todo 修正了输出 PartNum_16137404081-2022-04-28.xlsx\n",
    "    # import datetime # 已经在上一步中导入\n",
    "    part_num=df['Parts Number'].unique()[0].replace(' ','')\n",
    "    res_all.to_excel(f'{path}/output/PartNum_{part_num}-{datetime.datetime.now().strftime(\"%Y-%m-%d-%H-%M-%S\")}.xlsx')\n",
    "\n"
   ]
  },
  {
   "cell_type": "code",
   "execution_count": 24,
   "metadata": {},
   "outputs": [
    {
     "name": "stderr",
     "output_type": "stream",
     "text": [
      "C:\\Users\\liaoyan\\AppData\\Local\\Temp\\ipykernel_14132\\2567192295.py:12: SettingWithCopyWarning: \n",
      "A value is trying to be set on a copy of a slice from a DataFrame.\n",
      "Try using .loc[row_indexer,col_indexer] = value instead\n",
      "\n",
      "See the caveats in the documentation: https://pandas.pydata.org/pandas-docs/stable/user_guide/indexing.html#returning-a-view-versus-a-copy\n",
      "  df['时间'] = df['文件名'].apply(lambda x: datetime.datetime.strptime(\n"
     ]
    }
   ],
   "source": [
    "if __name__=='__main__':\n",
    "    # \n",
    "    file_names=get_current_path() # 获取当前工作目录\n",
    "    df_src=concat_data(file_names) # 将数据拼接成一个dataframe\n",
    "    df_src_split=split_data(df_src) # 将数据按零件号拆分成多个数据\n",
    "    # 循环调用get_single_part函数\n",
    "    for i in df_src_split:\n",
    "        df=extract_time(i) # 提取文件名中时间，变成时间列\n",
    "        get_single_part(df) # 各个打印报表\n",
    "    \n",
    "    \n"
   ]
  }
 ],
 "metadata": {
  "interpreter": {
   "hash": "5aab36eba7e9968a64609c19f8b00c8e1aa9cee82d92e585320bc5ff019fe6dc"
  },
  "kernelspec": {
   "display_name": "Python 3.8.5 64-bit",
   "language": "python",
   "name": "python3"
  },
  "language_info": {
   "codemirror_mode": {
    "name": "ipython",
    "version": 3
   },
   "file_extension": ".py",
   "mimetype": "text/x-python",
   "name": "python",
   "nbconvert_exporter": "python",
   "pygments_lexer": "ipython3",
   "version": "3.8.5"
  },
  "orig_nbformat": 4
 },
 "nbformat": 4,
 "nbformat_minor": 2
}
