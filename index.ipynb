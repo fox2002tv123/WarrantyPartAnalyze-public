{
 "cells": [
  {
   "cell_type": "code",
   "execution_count": 52,
   "metadata": {},
   "outputs": [
    {
     "data": {
      "text/plain": [
       "['c:\\\\Users\\\\Administrator\\\\Desktop\\\\new_place\\\\WarrantyPartAnalyze-master\\\\data\\\\TABLE6_2022-04-26 09_30_46.xlsx',\n",
       " 'c:\\\\Users\\\\Administrator\\\\Desktop\\\\new_place\\\\WarrantyPartAnalyze-master\\\\data\\\\TABLE6_2022-04-27 09_30_46 .xlsx']"
      ]
     },
     "execution_count": 52,
     "metadata": {},
     "output_type": "execute_result"
    }
   ],
   "source": [
    "# 获取data文件夹下的所有文件xlsx文件\n",
    "import glob\n",
    "# 获取当前完整路径\n",
    "import os\n",
    "path=os.getcwd() # 获取当前工作目录\n",
    "path\n",
    "file_names=glob.glob(f'{path}\\\\data\\\\*.xlsx')\n",
    "# file_names=['data\\\\'+i for i in file_names]\n",
    "file_names\n"
   ]
  },
  {
   "cell_type": "code",
   "execution_count": 53,
   "metadata": {},
   "outputs": [
    {
     "data": {
      "text/html": [
       "<div>\n",
       "<style scoped>\n",
       "    .dataframe tbody tr th:only-of-type {\n",
       "        vertical-align: middle;\n",
       "    }\n",
       "\n",
       "    .dataframe tbody tr th {\n",
       "        vertical-align: top;\n",
       "    }\n",
       "\n",
       "    .dataframe thead th {\n",
       "        text-align: right;\n",
       "    }\n",
       "</style>\n",
       "<table border=\"1\" class=\"dataframe\">\n",
       "  <thead>\n",
       "    <tr style=\"text-align: right;\">\n",
       "      <th></th>\n",
       "      <th>Dealer No.</th>\n",
       "      <th>Dealer Name</th>\n",
       "      <th>Parts Number</th>\n",
       "      <th>Description</th>\n",
       "      <th>QTY</th>\n",
       "      <th>Reserve QTY</th>\n",
       "      <th>Reorder QTY</th>\n",
       "      <th>Discount</th>\n",
       "      <th>Pc</th>\n",
       "      <th>Alois Class</th>\n",
       "      <th>文件名</th>\n",
       "    </tr>\n",
       "  </thead>\n",
       "  <tbody>\n",
       "    <tr>\n",
       "      <th>0</th>\n",
       "      <td>20537</td>\n",
       "      <td>Dalian Yandebao</td>\n",
       "      <td>16 13 7 404 081</td>\n",
       "      <td>通风管 带滤尘器</td>\n",
       "      <td>1</td>\n",
       "      <td>1</td>\n",
       "      <td>1</td>\n",
       "      <td>21</td>\n",
       "      <td>74</td>\n",
       "      <td>A/A6</td>\n",
       "      <td>TABLE6_2022-04-26 09_30_46.xlsx</td>\n",
       "    </tr>\n",
       "    <tr>\n",
       "      <th>0</th>\n",
       "      <td>20537</td>\n",
       "      <td>Dalian Yandebao</td>\n",
       "      <td>16 13 7 404 081</td>\n",
       "      <td>通风管 带滤尘器</td>\n",
       "      <td>0</td>\n",
       "      <td>1</td>\n",
       "      <td>1</td>\n",
       "      <td>21</td>\n",
       "      <td>74</td>\n",
       "      <td>A/A6</td>\n",
       "      <td>TABLE6_2022-04-27 09_30_46 .xlsx</td>\n",
       "    </tr>\n",
       "  </tbody>\n",
       "</table>\n",
       "</div>"
      ],
      "text/plain": [
       "   Dealer No.      Dealer Name     Parts Number Description  QTY  Reserve QTY  \\\n",
       "0       20537  Dalian Yandebao  16 13 7 404 081    通风管 带滤尘器    1            1   \n",
       "0       20537  Dalian Yandebao  16 13 7 404 081    通风管 带滤尘器    0            1   \n",
       "\n",
       "   Reorder QTY  Discount  Pc Alois Class                               文件名  \n",
       "0            1        21  74        A/A6   TABLE6_2022-04-26 09_30_46.xlsx  \n",
       "0            1        21  74        A/A6  TABLE6_2022-04-27 09_30_46 .xlsx  "
      ]
     },
     "execution_count": 53,
     "metadata": {},
     "output_type": "execute_result"
    }
   ],
   "source": [
    "# 加载数据\n",
    "import pandas as pd\n",
    "import numpy as np\n",
    "# concat函数用于拼接数据\n",
    "src_data=[]\n",
    "for i in file_names:\n",
    "    data=pd.read_excel(i)\n",
    "    data['文件名']=i.replace(f'{path}\\\\data\\\\','') # 添加文件名列\n",
    "    src_data.append(data) # 将每个文件的数据拼接到一起\n",
    "    \n",
    "df_src=pd.concat(src_data) # 将拼接好的数据放到一个dataframe中\n",
    "\n",
    "df_src.head()"
   ]
  },
  {
   "cell_type": "code",
   "execution_count": 54,
   "metadata": {},
   "outputs": [
    {
     "data": {
      "text/plain": [
       "array(['16 13 7 404 081'], dtype=object)"
      ]
     },
     "execution_count": 54,
     "metadata": {},
     "output_type": "execute_result"
    }
   ],
   "source": [
    "df_src['Parts Number'].unique()"
   ]
  },
  {
   "cell_type": "code",
   "execution_count": 55,
   "metadata": {},
   "outputs": [
    {
     "data": {
      "text/html": [
       "<div>\n",
       "<style scoped>\n",
       "    .dataframe tbody tr th:only-of-type {\n",
       "        vertical-align: middle;\n",
       "    }\n",
       "\n",
       "    .dataframe tbody tr th {\n",
       "        vertical-align: top;\n",
       "    }\n",
       "\n",
       "    .dataframe thead th {\n",
       "        text-align: right;\n",
       "    }\n",
       "</style>\n",
       "<table border=\"1\" class=\"dataframe\">\n",
       "  <thead>\n",
       "    <tr style=\"text-align: right;\">\n",
       "      <th></th>\n",
       "      <th>Dealer No.</th>\n",
       "      <th>QTY</th>\n",
       "      <th>Reorder QTY</th>\n",
       "      <th>时间</th>\n",
       "    </tr>\n",
       "    <tr>\n",
       "      <th>时间</th>\n",
       "      <th></th>\n",
       "      <th></th>\n",
       "      <th></th>\n",
       "      <th></th>\n",
       "    </tr>\n",
       "  </thead>\n",
       "  <tbody>\n",
       "    <tr>\n",
       "      <th>2022-04-26</th>\n",
       "      <td>20537</td>\n",
       "      <td>1</td>\n",
       "      <td>1</td>\n",
       "      <td>2022-04-26</td>\n",
       "    </tr>\n",
       "    <tr>\n",
       "      <th>2022-04-27</th>\n",
       "      <td>20537</td>\n",
       "      <td>0</td>\n",
       "      <td>1</td>\n",
       "      <td>2022-04-27</td>\n",
       "    </tr>\n",
       "  </tbody>\n",
       "</table>\n",
       "</div>"
      ],
      "text/plain": [
       "            Dealer No.  QTY  Reorder QTY         时间\n",
       "时间                                                 \n",
       "2022-04-26       20537    1            1 2022-04-26\n",
       "2022-04-27       20537    0            1 2022-04-27"
      ]
     },
     "execution_count": 55,
     "metadata": {},
     "output_type": "execute_result"
    }
   ],
   "source": [
    "# 处理数据\n",
    "df=df_src.copy()\n",
    "# 提取文件名中的时间\n",
    "import datetime\n",
    "# 提取时间\n",
    "df['时间']=df['文件名'].apply(lambda x:datetime.datetime.strptime(x.split(' ')[0],'TABLE6_%Y-%m-%d'))\n",
    "# 按经销商-时间排序-升序\n",
    "df=df.sort_values(by=['Dealer No.','时间'])\n",
    "df.index=df['时间']\n",
    "df[['Dealer No.','QTY','Reorder QTY','时间']].head()\n"
   ]
  },
  {
   "cell_type": "code",
   "execution_count": 56,
   "metadata": {},
   "outputs": [
    {
     "name": "stdout",
     "output_type": "stream",
     "text": [
      "<class 'pandas.core.frame.DataFrame'>\n",
      "DatetimeIndex: 2 entries, 2022-04-26 to 2022-04-27\n",
      "Data columns (total 12 columns):\n",
      " #   Column        Non-Null Count  Dtype         \n",
      "---  ------        --------------  -----         \n",
      " 0   Dealer No.    2 non-null      int64         \n",
      " 1   Dealer Name   2 non-null      object        \n",
      " 2   Parts Number  2 non-null      object        \n",
      " 3   Description   2 non-null      object        \n",
      " 4   QTY           2 non-null      int64         \n",
      " 5   Reserve QTY   2 non-null      int64         \n",
      " 6   Reorder QTY   2 non-null      int64         \n",
      " 7   Discount      2 non-null      int64         \n",
      " 8   Pc            2 non-null      int64         \n",
      " 9   Alois Class   2 non-null      object        \n",
      " 10  文件名           2 non-null      object        \n",
      " 11  时间            2 non-null      datetime64[ns]\n",
      "dtypes: datetime64[ns](1), int64(6), object(5)\n",
      "memory usage: 208.0+ bytes\n"
     ]
    }
   ],
   "source": [
    "df.info()"
   ]
  },
  {
   "cell_type": "code",
   "execution_count": 57,
   "metadata": {},
   "outputs": [
    {
     "data": {
      "text/html": [
       "<div>\n",
       "<style scoped>\n",
       "    .dataframe tbody tr th:only-of-type {\n",
       "        vertical-align: middle;\n",
       "    }\n",
       "\n",
       "    .dataframe tbody tr th {\n",
       "        vertical-align: top;\n",
       "    }\n",
       "\n",
       "    .dataframe thead th {\n",
       "        text-align: right;\n",
       "    }\n",
       "</style>\n",
       "<table border=\"1\" class=\"dataframe\">\n",
       "  <thead>\n",
       "    <tr style=\"text-align: right;\">\n",
       "      <th></th>\n",
       "      <th></th>\n",
       "      <th>时间</th>\n",
       "      <th>2022-04-26</th>\n",
       "      <th>2022-04-27</th>\n",
       "      <th>汇总</th>\n",
       "    </tr>\n",
       "    <tr>\n",
       "      <th>Dealer No.</th>\n",
       "      <th>Dealer Name</th>\n",
       "      <th>Parts Number</th>\n",
       "      <th></th>\n",
       "      <th></th>\n",
       "      <th></th>\n",
       "    </tr>\n",
       "  </thead>\n",
       "  <tbody>\n",
       "    <tr>\n",
       "      <th>20537</th>\n",
       "      <th>Dalian Yandebao</th>\n",
       "      <th>16 13 7 404 081</th>\n",
       "      <td>0.0</td>\n",
       "      <td>1.0</td>\n",
       "      <td>1.0</td>\n",
       "    </tr>\n",
       "  </tbody>\n",
       "</table>\n",
       "</div>"
      ],
      "text/plain": [
       "时间                                          2022-04-26  2022-04-27   汇总\n",
       "Dealer No. Dealer Name     Parts Number                                \n",
       "20537      Dalian Yandebao 16 13 7 404 081         0.0         1.0  1.0"
      ]
     },
     "execution_count": 57,
     "metadata": {},
     "output_type": "execute_result"
    }
   ],
   "source": [
    "# groupby数据并分析\n",
    "# df.groupby('Dealer No.')[23403].apply(lambda x:x['QTY']+x['Reorder QTY'])\n",
    "# df.groupby('Dealer No.').get_group(23403)\n",
    "# df.shape[0]\n",
    "#? df['Dealer No.'].shift(-1)\n",
    "\n",
    "# 创建函数，lambda x:x['QTY']+x['Reorder QTY']-x['QTY'].shift(1)-x['Reorder QTY'].shift(1)\n",
    "def get_diff(x):\n",
    "    # \n",
    "    c1=x['QTY'].shift(1)+x['Reorder QTY'].shift(1)-x['QTY']-x['Reorder QTY']\n",
    "    c1=c1.map(lambda x:x if x>0 else 0) # 如果x<0，则返回0，原因是0的时候，不能减去\n",
    "    # print(c1)\n",
    "    \n",
    "    return c1 \n",
    "    \n",
    "\n",
    "# df下一行(QTY+Reorder QTY)减去df上一行(QTY+Reorder QTY)\n",
    "res_all=df.groupby(['Dealer No.','Dealer Name','Parts Number']).apply(get_diff)\n",
    "# 添加汇总列\n",
    "res_all['汇总']=res_all.sum(axis=1) #! 单一数据可使用\n",
    "\n",
    "# 转换列名称为日期2022-4-28 00:00:00 为2022-4-28\n",
    "res_all.columns=res_all.columns.map(lambda x:str(x)[:10]) #! 单一数据可使用\n",
    "\n",
    "res_all\n",
    "\n"
   ]
  },
  {
   "cell_type": "code",
   "execution_count": 59,
   "metadata": {},
   "outputs": [],
   "source": [
    "# 生成报表\n",
    "# todo 修正了输出逻辑\n",
    "import datetime\n",
    "part_num=df['Parts Number'].unique()[0].replace(' ','')\n",
    "res_all.to_excel(f'{path}/output/PartNum_{part_num}-{datetime.datetime.now().strftime(\"%Y-%m-%d\")}.xlsx')"
   ]
  }
 ],
 "metadata": {
  "interpreter": {
   "hash": "5aab36eba7e9968a64609c19f8b00c8e1aa9cee82d92e585320bc5ff019fe6dc"
  },
  "kernelspec": {
   "display_name": "Python 3.8.5 64-bit",
   "language": "python",
   "name": "python3"
  },
  "language_info": {
   "codemirror_mode": {
    "name": "ipython",
    "version": 3
   },
   "file_extension": ".py",
   "mimetype": "text/x-python",
   "name": "python",
   "nbconvert_exporter": "python",
   "pygments_lexer": "ipython3",
   "version": "3.7.2"
  },
  "orig_nbformat": 4
 },
 "nbformat": 4,
 "nbformat_minor": 2
}
