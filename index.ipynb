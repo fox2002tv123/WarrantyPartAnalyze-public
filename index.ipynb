{
 "cells": [
  {
   "cell_type": "code",
   "execution_count": 25,
   "metadata": {},
   "outputs": [],
   "source": [
    "# 获取data文件夹下的所有文件xlsx文件\n",
    "import glob\n",
    "# 获取当前完整路径\n",
    "import os\n",
    "import datetime\n",
    "import pandas as pd\n",
    "import numpy as np\n",
    "path=os.getcwd() # 获取当前工作目录\n",
    "# 创建函数，获取当前工作目录，文件名，文件名后缀\n",
    "# step -3 获取当前工作目录\n",
    "def get_current_path():\n",
    "    \n",
    "    path=os.getcwd() # 获取当前工作目录\n",
    "    path\n",
    "    file_names=glob.glob(f'{path}\\\\data\\\\*.xlsx')\n",
    "    # file_names=['data\\\\'+i for i in file_names]\n",
    "    return file_names\n"
   ]
  },
  {
   "cell_type": "code",
   "execution_count": 26,
   "metadata": {},
   "outputs": [],
   "source": [
    "# 加载数据\n",
    "# import pandas as pd\n",
    "# import numpy as np\n",
    "# concat函数用于拼接数据\n",
    "# step-2 将数据拼接成一个dataframe\n",
    "# 创建函数，用于拼接数据\n",
    "def concat_data(file_names):\n",
    "    src_data=[]\n",
    "    for i in file_names:\n",
    "        data=pd.read_excel(i)\n",
    "        data['文件名']=i.replace(f'{path}\\\\data\\\\','') # 添加文件名列\n",
    "        src_data.append(data) # 将每个文件的数据拼接到一起\n",
    "        \n",
    "    df_src=pd.concat(src_data) # 将拼接好的数据放到一个dataframe中\n",
    "\n",
    "    df_src.head()\n",
    "    return df_src"
   ]
  },
  {
   "cell_type": "code",
   "execution_count": 27,
   "metadata": {},
   "outputs": [],
   "source": [
    "# df_src['Parts Number'].unique()"
   ]
  },
  {
   "cell_type": "code",
   "execution_count": 28,
   "metadata": {},
   "outputs": [],
   "source": [
    "# 创建函数，用于当df_src['Parts Number'].unique()>1时，通过拆分数据，将数据拆分成多个数据\n",
    "# step -1 将数据拆分成多个数据\n",
    "def split_data(df_src):\n",
    "    df_src_split=[]\n",
    "    for i in df_src['Parts Number'].unique():\n",
    "        df_src_split.append(df_src[df_src['Parts Number']==i])\n",
    "    return df_src_split"
   ]
  },
  {
   "cell_type": "code",
   "execution_count": 29,
   "metadata": {},
   "outputs": [],
   "source": [
    "# 运行step 0\n",
    "# 处理数据\n",
    "# df = df_src.copy()\n",
    "# 提取文件名中的时间\n",
    "# 创建函数，用于提取文件名中的时间\n",
    "\n",
    "\n",
    "def extract_time(df):\n",
    "\n",
    "    # import datetime # 已经在上一步中导入\n",
    "    # 提取时间\n",
    "    df['时间'] = df['文件名'].apply(lambda x: datetime.datetime.strptime(\n",
    "        x.split(' ')[0], 'TABLE6_%Y-%m-%d'))\n",
    "    # 按经销商-时间排序-升序\n",
    "    df = df.sort_values(by=['Dealer No.', '时间'])\n",
    "    df.index = df['时间']\n",
    "    df[['Dealer No.', 'QTY', 'Reorder QTY', '时间']].head()\n",
    "    return df\n"
   ]
  },
  {
   "cell_type": "code",
   "execution_count": 30,
   "metadata": {},
   "outputs": [],
   "source": [
    "# df.info()"
   ]
  },
  {
   "cell_type": "code",
   "execution_count": 31,
   "metadata": {},
   "outputs": [],
   "source": [
    "\n",
    "\n",
    "# 创建函数，lambda x:x['QTY']+x['Reorder QTY']-x['QTY'].shift(1)-x['Reorder QTY'].shift(1)\n",
    "# 运行step2\n",
    "def get_diff(x):\n",
    "    # \n",
    "    c1=x['QTY'].shift(1)+x['Reorder QTY'].shift(1)-x['QTY']-x['Reorder QTY']\n",
    "    c1=c1.map(lambda x:x if x>0 else 0) # 如果x<0，则返回0，原因是0的时候，不能减去\n",
    "    # print(c1)\n",
    "    \n",
    "    return c1 \n",
    "    \n",
    "# 创建函数，单一零件号的情况\n",
    "\n",
    "# 运行step1\n",
    "def get_single_part(df):\n",
    "    \n",
    "    # df下一行(QTY+Reorder QTY)减去df上一行(QTY+Reorder QTY)\n",
    "    res_all=df.groupby(['Dealer No.','Dealer Name','Parts Number']).apply(get_diff)\n",
    "    # pandas将'时间'列转换成行\n",
    "    res_all=res_all.unstack('时间') #! 这是公司电脑的版本\n",
    "    # 添加汇总列\n",
    "    res_all['汇总']=res_all.sum(axis=1) #! 单一数据可使用\n",
    "\n",
    "    # 转换列名称为日期2022-4-28 00:00:00 为2022-4-28\n",
    "    res_all.columns=res_all.columns.map(lambda x:str(x)[:10]) #! 单一数据可使用\n",
    "\n",
    "    print(res_all)\n",
    "    # 生成报表\n",
    "    # todo 修正了输出 PartNum_16137404081-2022-04-28.xlsx\n",
    "    # import datetime # 已经在上一步中导入\n",
    "    part_num=df['Parts Number'].unique()[0].replace(' ','')\n",
    "    res_all.to_excel(f'{path}/output/PartNum_{part_num}-{datetime.datetime.now().strftime(\"%Y-%m-%d-%H-%M-%S\")}.xlsx')\n",
    "\n"
   ]
  },
  {
   "cell_type": "code",
   "execution_count": 32,
   "metadata": {},
   "outputs": [
    {
     "name": "stdout",
     "output_type": "stream",
     "text": [
      "时间                                                         2022-04-28  \\\n",
      "Dealer No. Dealer Name                    Parts Number                  \n",
      "23403      Nanning Summit Guibao          64 11 9 855 412         0.0   \n",
      "23802      Jinhua Jinchang Baoshun        64 11 9 855 412         0.0   \n",
      "25504      Shangyu Jinchang Baoshun       64 11 9 855 412         0.0   \n",
      "26563      Wenzhou Haoda                  64 11 9 855 412         0.0   \n",
      "26564      Shanghai Fande                 64 11 9 855 412         0.0   \n",
      "...                                                               ...   \n",
      "50445      Jiaxing Zhongyue Junbaohang    64 11 9 855 412         0.0   \n",
      "50447      Changxing Junbaohang           64 11 9 855 412         0.0   \n",
      "50953      Tai'an Dayoubao                64 11 9 855 412         0.0   \n",
      "51030      Shenzhen Bow Chuang Sime Darby 64 11 9 855 412         0.0   \n",
      "51174      Guangzhou Baiyun Yuebao        64 11 9 855 412         0.0   \n",
      "\n",
      "时间                                                         2022-04-29   汇总  \n",
      "Dealer No. Dealer Name                    Parts Number                      \n",
      "23403      Nanning Summit Guibao          64 11 9 855 412         1.0  1.0  \n",
      "23802      Jinhua Jinchang Baoshun        64 11 9 855 412         0.0  0.0  \n",
      "25504      Shangyu Jinchang Baoshun       64 11 9 855 412         0.0  0.0  \n",
      "26563      Wenzhou Haoda                  64 11 9 855 412         0.0  0.0  \n",
      "26564      Shanghai Fande                 64 11 9 855 412         0.0  0.0  \n",
      "...                                                               ...  ...  \n",
      "50445      Jiaxing Zhongyue Junbaohang    64 11 9 855 412         0.0  0.0  \n",
      "50447      Changxing Junbaohang           64 11 9 855 412         0.0  0.0  \n",
      "50953      Tai'an Dayoubao                64 11 9 855 412         0.0  0.0  \n",
      "51030      Shenzhen Bow Chuang Sime Darby 64 11 9 855 412         0.0  0.0  \n",
      "51174      Guangzhou Baiyun Yuebao        64 11 9 855 412         0.0  0.0  \n",
      "\n",
      "[360 rows x 3 columns]\n"
     ]
    }
   ],
   "source": [
    "if __name__=='__main__':\n",
    "    # \n",
    "    file_names=get_current_path() # 获取当前工作目录\n",
    "    df_src=concat_data(file_names) # 将数据拼接成一个dataframe\n",
    "    df_src_split=split_data(df_src) # 将数据按零件号拆分成多个数据\n",
    "    # 循环调用get_single_part函数\n",
    "    for i in df_src_split:\n",
    "        df=extract_time(i) # 提取文件名中时间，变成时间列\n",
    "        get_single_part(df) # 各个打印报表\n",
    "    \n",
    "    \n"
   ]
  }
 ],
 "metadata": {
  "interpreter": {
   "hash": "5aab36eba7e9968a64609c19f8b00c8e1aa9cee82d92e585320bc5ff019fe6dc"
  },
  "kernelspec": {
   "display_name": "Python 3.8.5 64-bit",
   "language": "python",
   "name": "python3"
  },
  "language_info": {
   "codemirror_mode": {
    "name": "ipython",
    "version": 3
   },
   "file_extension": ".py",
   "mimetype": "text/x-python",
   "name": "python",
   "nbconvert_exporter": "python",
   "pygments_lexer": "ipython3",
   "version": "3.8.5"
  },
  "orig_nbformat": 4
 },
 "nbformat": 4,
 "nbformat_minor": 2
}
